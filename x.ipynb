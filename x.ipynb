{
 "cells": [
  {
   "cell_type": "code",
   "execution_count": 7,
   "metadata": {},
   "outputs": [
    {
     "name": "stdout",
     "output_type": "stream",
     "text": [
      "Retrieved embedding vector: [0.97176831 0.05925679 0.65797857 0.10489687 0.70328286 0.16672818\n",
      " 0.45276087 0.15673245 0.53259354 0.19720465 0.30621056 0.35431327\n",
      " 0.19823507 0.92573912 0.87582317 0.53028599 0.57603556 0.07453827\n",
      " 0.77436556 0.34395466 0.75528268 0.77449192 0.18887515 0.57728985\n",
      " 0.53860953 0.56581229 0.13197134 0.34410174 0.02844829 0.86736657\n",
      " 0.11356642 0.37587785 0.42126274 0.076091   0.87843224 0.50532735\n",
      " 0.56761273 0.0853026  0.40289916 0.03784914 0.72639229 0.66473057\n",
      " 0.06276525 0.05494728 0.22766073 0.51184126 0.68622889 0.41091026\n",
      " 0.66993636 0.69533472 0.03143252 0.17976795 0.25729525 0.11080753\n",
      " 0.35465342 0.19857834 0.28528067 0.23651268 0.89188879 0.96219558\n",
      " 0.91796816 0.55795467 0.16692111 0.6473957  0.11801084 0.82870618\n",
      " 0.19863547 0.50043469 0.42217387 0.46647454 0.5825088  0.88535279\n",
      " 0.14020158 0.22092313 0.87758977 0.69327486 0.21004638 0.81601093\n",
      " 0.05986012 0.06950622 0.83888572 0.22072424 0.82061798 0.82429188\n",
      " 0.36099424 0.96284913 0.75277588 0.57797645 0.64700997 0.3264285\n",
      " 0.42284469 0.50706069 0.22788576 0.38163846 0.19168199 0.90241807\n",
      " 0.08655009 0.72129546 0.8194211  0.43456399]\n"
     ]
    }
   ],
   "source": [
    "\n",
    "import psycopg2\n",
    "import numpy as np\n",
    "\n",
    "# Örnek bir embedding vektörü\n",
    "embedding_vector = np.random.rand(100)  # Örnek 100 boyutlu bir embedding vektörü\n",
    "\n",
    "try:\n",
    "    # PostgreSQL veritabanı bağlantısı\n",
    "    conn = psycopg2.connect(dbname='postgres', user='postgres', password='290128', host='localhost', port='5432')\n",
    "    cur = conn.cursor()\n",
    "\n",
    "    # items tablosunu oluştur\n",
    "    cur.execute(\"CREATE TABLE IF NOT EXISTS items (id SERIAL PRIMARY KEY, embedding_vector FLOAT[]);\")\n",
    "\n",
    "    # Embedding vektörünü eklemek\n",
    "    cur.execute(\"INSERT INTO items (embedding_vector) VALUES (%s)\", (embedding_vector.tolist(),))\n",
    "\n",
    "    # Veritabanından embedding vektörünü çekmek\n",
    "    cur.execute(\"SELECT embedding_vector FROM items LIMIT 1\")\n",
    "    result = cur.fetchone()[0]  # İlk satırın ilk sütunu\n",
    "    retrieved_embedding_vector = np.array(result)\n",
    "\n",
    "    print(\"Retrieved embedding vector:\", retrieved_embedding_vector)\n",
    "\n",
    "    # Bağlantıyı kapatma\n",
    "    cur.close()\n",
    "    conn.commit()\n",
    "    conn.close()\n",
    "\n",
    "except psycopg2.Error as e:\n",
    "    print(\"Veritabanı bağlantısı veya işlem hatası:\", e)\n"
   ]
  }
 ],
 "metadata": {
  "kernelspec": {
   "display_name": "Python 3",
   "language": "python",
   "name": "python3"
  },
  "language_info": {
   "codemirror_mode": {
    "name": "ipython",
    "version": 3
   },
   "file_extension": ".py",
   "mimetype": "text/x-python",
   "name": "python",
   "nbconvert_exporter": "python",
   "pygments_lexer": "ipython3",
   "version": "3.9.6"
  }
 },
 "nbformat": 4,
 "nbformat_minor": 2
}
