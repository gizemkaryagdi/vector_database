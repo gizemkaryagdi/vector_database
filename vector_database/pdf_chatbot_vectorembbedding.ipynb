{
 "cells": [
  {
   "cell_type": "code",
   "execution_count": 1,
   "metadata": {},
   "outputs": [
    {
     "name": "stderr",
     "output_type": "stream",
     "text": [
      "/Users/gizemkaryagdi/Library/Python/3.9/lib/python/site-packages/tqdm/auto.py:21: TqdmWarning: IProgress not found. Please update jupyter and ipywidgets. See https://ipywidgets.readthedocs.io/en/stable/user_install.html\n",
      "  from .autonotebook import tqdm as notebook_tqdm\n"
     ]
    }
   ],
   "source": [
    "import fitz \n",
    "from sentence_transformers import SentenceTransformer\n",
    "import psycopg2\n",
    "import numpy as np"
   ]
  },
  {
   "cell_type": "markdown",
   "metadata": {},
   "source": [
    "PDF Yükleme"
   ]
  },
  {
   "cell_type": "code",
   "execution_count": 2,
   "metadata": {},
   "outputs": [],
   "source": [
    "def extract_text_from_pdf(pdf_path):\n",
    "    doc = fitz.open(pdf_path)\n",
    "    text = \"\"\n",
    "    for page_num in range(len(doc)):\n",
    "        page = doc.load_page(page_num)\n",
    "        text += page.get_text()\n",
    "    return text"
   ]
  },
  {
   "cell_type": "markdown",
   "metadata": {},
   "source": [
    "Vektör Gömme"
   ]
  },
  {
   "cell_type": "code",
   "execution_count": 3,
   "metadata": {},
   "outputs": [],
   "source": [
    "def generate_embeddings(text, model_name='all-MiniLM-L6-v2'):\n",
    "    model = SentenceTransformer(model_name)\n",
    "    embeddings = model.encode(text)\n",
    "    return embeddings"
   ]
  },
  {
   "cell_type": "markdown",
   "metadata": {},
   "source": [
    "Gömmeleri PostgreSQL ile Saklama"
   ]
  },
  {
   "cell_type": "code",
   "execution_count": 4,
   "metadata": {},
   "outputs": [],
   "source": [
    "def store_embeddings_in_db(embeddings, db_config):\n",
    "    conn = psycopg2.connect(**db_config)\n",
    "    cur = conn.cursor()\n",
    "    \n",
    "    # Tablo oluşturma\n",
    "    cur.execute(\"\"\"\n",
    "    CREATE TABLE IF NOT EXISTS embeddings (\n",
    "        id SERIAL PRIMARY KEY,\n",
    "        embedding FLOAT8[]\n",
    "    )\n",
    "    \"\"\")\n",
    "    \n",
    "    # Veri tabanına ekleme\n",
    "    for emb in embeddings:\n",
    "        cur.execute(\"INSERT INTO embeddings (embedding) VALUES (%s)\", (emb.tolist(),))\n",
    "    \n",
    "    conn.commit()\n",
    "    cur.close()\n",
    "    conn.close()\n",
    "\n",
    "# Main function to execute the steps\n",
    "def main(pdf_path, db_config):\n",
    "    text = extract_text_from_pdf(pdf_path)\n",
    "    embeddings = generate_embeddings(text.split('\\n'))\n",
    "    store_embeddings_in_db(embeddings, db_config)\n",
    "\n",
    "db_config = {\n",
    "    'dbname': 'postgres',\n",
    "    'user': 'postgres',\n",
    "    'password': '290128',\n",
    "    'host': 'localhost',\n",
    "    'port': 5432\n",
    "}\n",
    "pdf_path = '/Users/gizemkaryagdi/Desktop/MachineLearning-Lecture01.pdf'\n",
    "main(pdf_path, db_config)"
   ]
  }
 ],
 "metadata": {
  "kernelspec": {
   "display_name": "Python 3",
   "language": "python",
   "name": "python3"
  },
  "language_info": {
   "codemirror_mode": {
    "name": "ipython",
    "version": 3
   },
   "file_extension": ".py",
   "mimetype": "text/x-python",
   "name": "python",
   "nbconvert_exporter": "python",
   "pygments_lexer": "ipython3",
   "version": "3.9.6"
  }
 },
 "nbformat": 4,
 "nbformat_minor": 2
}
