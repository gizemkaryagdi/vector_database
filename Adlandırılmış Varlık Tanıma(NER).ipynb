{
 "cells": [
  {
   "cell_type": "code",
   "execution_count": 15,
   "metadata": {},
   "outputs": [],
   "source": [
    "from transformers import AutoTokenizer,AutoModelForTokenClassification\n",
    "from transformers import pipeline\n",
    "import torch"
   ]
  },
  {
   "cell_type": "code",
   "execution_count": 16,
   "metadata": {},
   "outputs": [],
   "source": [
    "model_id=\"dslim/bert-base-NER\""
   ]
  },
  {
   "cell_type": "code",
   "execution_count": 17,
   "metadata": {},
   "outputs": [],
   "source": [
    "tokenizer_ner=AutoTokenizer.from_pretrained(model_id)"
   ]
  },
  {
   "cell_type": "code",
   "execution_count": 18,
   "metadata": {},
   "outputs": [
    {
     "name": "stderr",
     "output_type": "stream",
     "text": [
      "Some weights of the model checkpoint at dslim/bert-base-NER were not used when initializing BertForTokenClassification: ['bert.pooler.dense.bias', 'bert.pooler.dense.weight']\n",
      "- This IS expected if you are initializing BertForTokenClassification from the checkpoint of a model trained on another task or with another architecture (e.g. initializing a BertForSequenceClassification model from a BertForPreTraining model).\n",
      "- This IS NOT expected if you are initializing BertForTokenClassification from the checkpoint of a model that you expect to be exactly identical (initializing a BertForSequenceClassification model from a BertForSequenceClassification model).\n"
     ]
    }
   ],
   "source": [
    "ner_model=AutoModelForTokenClassification.from_pretrained(model_id)"
   ]
  },
  {
   "cell_type": "markdown",
   "metadata": {},
   "source": [
    "ner_model :Üç harf sayı(number), baskı hatası(edition error ) ve tanıma hatası(recognition error) anlamına gelir"
   ]
  },
  {
   "cell_type": "code",
   "execution_count": 19,
   "metadata": {},
   "outputs": [],
   "source": [
    "device=torch.cuda.current_device() if torch.cuda.is_available() else 'cpu' #torch.cuda:CUDA işlemlerini kurmak ve çalıştırmak için kullanılır. CUDA(Compute Unified Device Architecture)yani GPU için NVIDIA nın geliştirmiş olduğu bir mimaridir."
   ]
  },
  {
   "cell_type": "markdown",
   "metadata": {},
   "source": [
    "pipeline; oluştururken Verinin Alınması,Verinin Hazırlanması,Modelleme,Deployment (yaygınlaştırma) adımları için bir pipeline (türkçe olarak boru hattı da denilebilir) kurduğumuz kodumuzu dört farklı modül halinde düşünüp bu modüllerin aralarına bağlantılayabiliriz.Böylece istediğiniz modülü dilediğiniz zaman çağırıp kullanabilirsiniz. Hatta mikro servis (microservice) felsefesinde olduğu gibi hiç bir modülünüz (paket) bozulmadan diğerleri için geliştirme yapabilirsiniz."
   ]
  },
  {
   "cell_type": "code",
   "execution_count": 20,
   "metadata": {},
   "outputs": [],
   "source": [
    "nlp=pipeline('ner',\n",
    "             model=ner_model,\n",
    "             tokenizer=tokenizer_ner,\n",
    "             aggregation_strategy='max',\n",
    "             device=None)"
   ]
  },
  {
   "cell_type": "code",
   "execution_count": 24,
   "metadata": {},
   "outputs": [
    {
     "data": {
      "text/plain": [
       "[{'entity_group': 'PER',\n",
       "  'score': 0.9990613,\n",
       "  'word': 'Gizem',\n",
       "  'start': 11,\n",
       "  'end': 16},\n",
       " {'entity_group': 'ORG',\n",
       "  'score': 0.9983941,\n",
       "  'word': 'CranioCatch',\n",
       "  'start': 28,\n",
       "  'end': 39}]"
      ]
     },
     "execution_count": 24,
     "metadata": {},
     "output_type": "execute_result"
    }
   ],
   "source": [
    "nlp('My name is Gizem, I work in CranioCatch')"
   ]
  },
  {
   "cell_type": "markdown",
   "metadata": {},
   "source": [
    "Öncelikle tüm kütüphaneleri iç içe aktardık. Daha sonra tüm modellerii tokenizer_ner ve ner_model ile tanımladık. Daha sonra cihazımızda pipeline(boru hattı) oluşturduk yukarıda nedenini belirtmiş olduğum gibi. Buradan da bazı çıktıları görmüş ve test etmiş olduk."
   ]
  },
  {
   "cell_type": "markdown",
   "metadata": {},
   "source": [
    "rastgele bulduğum bir haberin bir paragraf kısmı üzerindeki bir örneğin diğer kullanılan yapay zeka botları üzerindeki karşılıklarını buldum"
   ]
  },
  {
   "cell_type": "code",
   "execution_count": 33,
   "metadata": {},
   "outputs": [],
   "source": [
    "text=\"We formed our partnership with OpenAI around a shared ambition to \\ responsibly advance cutting-edge AI research and democratize AI as a new \\ technology platform,” said Satya Nadella, Chairman and CEO, Microsoft. \\ In this next phase of our partnership, developers and organizations across \\ industries will have access to the best AI infrastructure, models, and toolchain \\ with Azure to build and run their applications.\""
   ]
  },
  {
   "cell_type": "code",
   "execution_count": 34,
   "metadata": {},
   "outputs": [
    {
     "data": {
      "text/plain": [
       "[{'entity_group': 'ORG',\n",
       "  'score': 0.99840134,\n",
       "  'word': 'OpenAI',\n",
       "  'start': 31,\n",
       "  'end': 37},\n",
       " {'entity_group': 'MISC',\n",
       "  'score': 0.9873176,\n",
       "  'word': 'AI',\n",
       "  'start': 101,\n",
       "  'end': 103},\n",
       " {'entity_group': 'MISC',\n",
       "  'score': 0.96237963,\n",
       "  'word': 'AI',\n",
       "  'start': 129,\n",
       "  'end': 131},\n",
       " {'entity_group': 'PER',\n",
       "  'score': 0.9996634,\n",
       "  'word': 'Satya Nadella',\n",
       "  'start': 170,\n",
       "  'end': 183},\n",
       " {'entity_group': 'ORG',\n",
       "  'score': 0.9986657,\n",
       "  'word': 'Microsoft',\n",
       "  'start': 203,\n",
       "  'end': 212},\n",
       " {'entity_group': 'MISC',\n",
       "  'score': 0.9948021,\n",
       "  'word': 'AI',\n",
       "  'start': 333,\n",
       "  'end': 335},\n",
       " {'entity_group': 'ORG',\n",
       "  'score': 0.99463403,\n",
       "  'word': 'Azure',\n",
       "  'start': 381,\n",
       "  'end': 386}]"
      ]
     },
     "execution_count": 34,
     "metadata": {},
     "output_type": "execute_result"
    }
   ],
   "source": [
    "nlp(text)"
   ]
  },
  {
   "cell_type": "code",
   "execution_count": 37,
   "metadata": {},
   "outputs": [
    {
     "data": {
      "text/plain": [
       "'Azure'"
      ]
     },
     "execution_count": 37,
     "metadata": {},
     "output_type": "execute_result"
    }
   ],
   "source": [
    "text[381:386]"
   ]
  }
 ],
 "metadata": {
  "kernelspec": {
   "display_name": "Python 3",
   "language": "python",
   "name": "python3"
  },
  "language_info": {
   "codemirror_mode": {
    "name": "ipython",
    "version": 3
   },
   "file_extension": ".py",
   "mimetype": "text/x-python",
   "name": "python",
   "nbconvert_exporter": "python",
   "pygments_lexer": "ipython3",
   "version": "3.9.6"
  }
 },
 "nbformat": 4,
 "nbformat_minor": 2
}
