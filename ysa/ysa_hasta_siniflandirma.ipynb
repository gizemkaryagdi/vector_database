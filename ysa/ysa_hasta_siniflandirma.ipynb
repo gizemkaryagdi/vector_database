{
  "cells": [
    {
      "cell_type": "code",
      "execution_count": 1,
      "metadata": {
        "id": "gzjp_h5AlmKH"
      },
      "outputs": [],
      "source": [
        "import pandas as pd\n",
        "from sklearn.neighbors import KNeighborsClassifier\n",
        "from sklearn.neural_network import MLPClassifier\n",
        "from sklearn.model_selection import train_test_split\n",
        "from sklearn.metrics import accuracy_score, confusion_matrix"
      ]
    },
    {
      "cell_type": "code",
      "execution_count": 2,
      "metadata": {
        "colab": {
          "base_uri": "https://localhost:8080/",
          "height": 363
        },
        "id": "UkuqzdFpmGDe",
        "outputId": "84db8693-a463-431f-9de4-9fe306c3f981"
      },
      "outputs": [],
      "source": [
        "data = pd.read_csv(\"heart_disease_dataset.csv\") #Dosyayı yükle"
      ]
    },
    {
      "cell_type": "code",
      "execution_count": 3,
      "metadata": {},
      "outputs": [
        {
          "data": {
            "text/html": [
              "<div>\n",
              "<style scoped>\n",
              "    .dataframe tbody tr th:only-of-type {\n",
              "        vertical-align: middle;\n",
              "    }\n",
              "\n",
              "    .dataframe tbody tr th {\n",
              "        vertical-align: top;\n",
              "    }\n",
              "\n",
              "    .dataframe thead th {\n",
              "        text-align: right;\n",
              "    }\n",
              "</style>\n",
              "<table border=\"1\" class=\"dataframe\">\n",
              "  <thead>\n",
              "    <tr style=\"text-align: right;\">\n",
              "      <th></th>\n",
              "      <th>Age</th>\n",
              "      <th>Gender</th>\n",
              "      <th>CP</th>\n",
              "      <th>Trestbps</th>\n",
              "      <th>Chol</th>\n",
              "      <th>Fbs</th>\n",
              "      <th>Restecg</th>\n",
              "      <th>Thalach</th>\n",
              "      <th>Exang</th>\n",
              "      <th>Oldpeak</th>\n",
              "      <th>Slope</th>\n",
              "      <th>CA</th>\n",
              "      <th>Thal</th>\n",
              "      <th>Num</th>\n",
              "    </tr>\n",
              "  </thead>\n",
              "  <tbody>\n",
              "    <tr>\n",
              "      <th>169</th>\n",
              "      <td>45</td>\n",
              "      <td>0</td>\n",
              "      <td>2</td>\n",
              "      <td>112</td>\n",
              "      <td>160</td>\n",
              "      <td>0</td>\n",
              "      <td>0</td>\n",
              "      <td>138</td>\n",
              "      <td>0</td>\n",
              "      <td>0.0</td>\n",
              "      <td>2</td>\n",
              "      <td>0</td>\n",
              "      <td>3</td>\n",
              "      <td>0</td>\n",
              "    </tr>\n",
              "    <tr>\n",
              "      <th>101</th>\n",
              "      <td>34</td>\n",
              "      <td>1</td>\n",
              "      <td>1</td>\n",
              "      <td>118</td>\n",
              "      <td>182</td>\n",
              "      <td>0</td>\n",
              "      <td>2</td>\n",
              "      <td>174</td>\n",
              "      <td>0</td>\n",
              "      <td>0.0</td>\n",
              "      <td>1</td>\n",
              "      <td>0</td>\n",
              "      <td>3</td>\n",
              "      <td>0</td>\n",
              "    </tr>\n",
              "    <tr>\n",
              "      <th>238</th>\n",
              "      <td>49</td>\n",
              "      <td>0</td>\n",
              "      <td>2</td>\n",
              "      <td>134</td>\n",
              "      <td>271</td>\n",
              "      <td>0</td>\n",
              "      <td>0</td>\n",
              "      <td>162</td>\n",
              "      <td>0</td>\n",
              "      <td>0.0</td>\n",
              "      <td>2</td>\n",
              "      <td>0</td>\n",
              "      <td>3</td>\n",
              "      <td>0</td>\n",
              "    </tr>\n",
              "    <tr>\n",
              "      <th>257</th>\n",
              "      <td>76</td>\n",
              "      <td>0</td>\n",
              "      <td>3</td>\n",
              "      <td>140</td>\n",
              "      <td>197</td>\n",
              "      <td>0</td>\n",
              "      <td>1</td>\n",
              "      <td>116</td>\n",
              "      <td>0</td>\n",
              "      <td>1.1</td>\n",
              "      <td>2</td>\n",
              "      <td>0</td>\n",
              "      <td>3</td>\n",
              "      <td>0</td>\n",
              "    </tr>\n",
              "    <tr>\n",
              "      <th>285</th>\n",
              "      <td>58</td>\n",
              "      <td>1</td>\n",
              "      <td>4</td>\n",
              "      <td>114</td>\n",
              "      <td>318</td>\n",
              "      <td>0</td>\n",
              "      <td>1</td>\n",
              "      <td>140</td>\n",
              "      <td>0</td>\n",
              "      <td>4.4</td>\n",
              "      <td>3</td>\n",
              "      <td>3</td>\n",
              "      <td>6</td>\n",
              "      <td>4</td>\n",
              "    </tr>\n",
              "    <tr>\n",
              "      <th>178</th>\n",
              "      <td>43</td>\n",
              "      <td>1</td>\n",
              "      <td>3</td>\n",
              "      <td>130</td>\n",
              "      <td>315</td>\n",
              "      <td>0</td>\n",
              "      <td>0</td>\n",
              "      <td>162</td>\n",
              "      <td>0</td>\n",
              "      <td>1.9</td>\n",
              "      <td>1</td>\n",
              "      <td>1</td>\n",
              "      <td>3</td>\n",
              "      <td>0</td>\n",
              "    </tr>\n",
              "    <tr>\n",
              "      <th>286</th>\n",
              "      <td>58</td>\n",
              "      <td>0</td>\n",
              "      <td>4</td>\n",
              "      <td>170</td>\n",
              "      <td>225</td>\n",
              "      <td>1</td>\n",
              "      <td>2</td>\n",
              "      <td>146</td>\n",
              "      <td>1</td>\n",
              "      <td>2.8</td>\n",
              "      <td>2</td>\n",
              "      <td>2</td>\n",
              "      <td>6</td>\n",
              "      <td>2</td>\n",
              "    </tr>\n",
              "    <tr>\n",
              "      <th>28</th>\n",
              "      <td>43</td>\n",
              "      <td>1</td>\n",
              "      <td>4</td>\n",
              "      <td>150</td>\n",
              "      <td>247</td>\n",
              "      <td>0</td>\n",
              "      <td>0</td>\n",
              "      <td>171</td>\n",
              "      <td>0</td>\n",
              "      <td>1.5</td>\n",
              "      <td>1</td>\n",
              "      <td>0</td>\n",
              "      <td>3</td>\n",
              "      <td>0</td>\n",
              "    </tr>\n",
              "    <tr>\n",
              "      <th>246</th>\n",
              "      <td>58</td>\n",
              "      <td>1</td>\n",
              "      <td>4</td>\n",
              "      <td>100</td>\n",
              "      <td>234</td>\n",
              "      <td>0</td>\n",
              "      <td>0</td>\n",
              "      <td>156</td>\n",
              "      <td>0</td>\n",
              "      <td>0.1</td>\n",
              "      <td>1</td>\n",
              "      <td>1</td>\n",
              "      <td>7</td>\n",
              "      <td>2</td>\n",
              "    </tr>\n",
              "    <tr>\n",
              "      <th>250</th>\n",
              "      <td>57</td>\n",
              "      <td>1</td>\n",
              "      <td>4</td>\n",
              "      <td>110</td>\n",
              "      <td>201</td>\n",
              "      <td>0</td>\n",
              "      <td>0</td>\n",
              "      <td>126</td>\n",
              "      <td>1</td>\n",
              "      <td>1.5</td>\n",
              "      <td>2</td>\n",
              "      <td>0</td>\n",
              "      <td>6</td>\n",
              "      <td>0</td>\n",
              "    </tr>\n",
              "  </tbody>\n",
              "</table>\n",
              "</div>"
            ],
            "text/plain": [
              "     Age  Gender  CP  Trestbps  Chol  Fbs  Restecg  Thalach  Exang  Oldpeak  \\\n",
              "169   45       0   2       112   160    0        0      138      0      0.0   \n",
              "101   34       1   1       118   182    0        2      174      0      0.0   \n",
              "238   49       0   2       134   271    0        0      162      0      0.0   \n",
              "257   76       0   3       140   197    0        1      116      0      1.1   \n",
              "285   58       1   4       114   318    0        1      140      0      4.4   \n",
              "178   43       1   3       130   315    0        0      162      0      1.9   \n",
              "286   58       0   4       170   225    1        2      146      1      2.8   \n",
              "28    43       1   4       150   247    0        0      171      0      1.5   \n",
              "246   58       1   4       100   234    0        0      156      0      0.1   \n",
              "250   57       1   4       110   201    0        0      126      1      1.5   \n",
              "\n",
              "     Slope CA Thal  Num  \n",
              "169      2  0    3    0  \n",
              "101      1  0    3    0  \n",
              "238      2  0    3    0  \n",
              "257      2  0    3    0  \n",
              "285      3  3    6    4  \n",
              "178      1  1    3    0  \n",
              "286      2  2    6    2  \n",
              "28       1  0    3    0  \n",
              "246      1  1    7    2  \n",
              "250      2  0    6    0  "
            ]
          },
          "execution_count": 3,
          "metadata": {},
          "output_type": "execute_result"
        }
      ],
      "source": [
        "data.sample(10) #data.sample(10) ifadesi, pandas DataFrame'i olan data'dan rastgele 10 satır örneği seçmek için kullanılır. Bu yöntem, veri setinden rastgele örnekler almak ve veri keşfi, model doğrulama veya veri görselleştirme gibi işlemler için yararlıdır. Detaylı açıklama aşağıdaki gibidir:"
      ]
    },
    {
      "cell_type": "code",
      "execution_count": 4,
      "metadata": {
        "colab": {
          "base_uri": "https://localhost:8080/"
        },
        "id": "-JYqaV-jmtt1",
        "outputId": "12eca6bc-21f0-4c40-a25b-a26d8b7cfbaa"
      },
      "outputs": [
        {
          "data": {
            "text/plain": [
              "(303, 14)"
            ]
          },
          "execution_count": 4,
          "metadata": {},
          "output_type": "execute_result"
        }
      ],
      "source": [
        "data.shape #Toplam satır ve sutun sayısı"
      ]
    },
    {
      "cell_type": "code",
      "execution_count": 5,
      "metadata": {
        "colab": {
          "base_uri": "https://localhost:8080/"
        },
        "id": "pA4nD1qLrrKz",
        "outputId": "15325ee9-3c04-4325-ada9-dcee07394cce"
      },
      "outputs": [
        {
          "data": {
            "text/plain": [
              "Age         0\n",
              "Gender      0\n",
              "CP          0\n",
              "Trestbps    0\n",
              "Chol        0\n",
              "Fbs         0\n",
              "Restecg     0\n",
              "Thalach     0\n",
              "Exang       0\n",
              "Oldpeak     0\n",
              "Slope       0\n",
              "CA          0\n",
              "Thal        0\n",
              "Num         0\n",
              "dtype: int64"
            ]
          },
          "execution_count": 5,
          "metadata": {},
          "output_type": "execute_result"
        }
      ],
      "source": [
        "data.isnull().sum() #Missing data kontrolü"
      ]
    },
    {
      "cell_type": "code",
      "execution_count": 6,
      "metadata": {
        "colab": {
          "base_uri": "https://localhost:8080/"
        },
        "id": "4Jm_zXeinF1X",
        "outputId": "e6badfa0-8051-4204-dd97-1705a56187ae"
      },
      "outputs": [
        {
          "data": {
            "text/plain": [
              "Age           int64\n",
              "Gender        int64\n",
              "CP            int64\n",
              "Trestbps      int64\n",
              "Chol          int64\n",
              "Fbs           int64\n",
              "Restecg       int64\n",
              "Thalach       int64\n",
              "Exang         int64\n",
              "Oldpeak     float64\n",
              "Slope         int64\n",
              "CA           object\n",
              "Thal         object\n",
              "Num           int64\n",
              "dtype: object"
            ]
          },
          "execution_count": 6,
          "metadata": {},
          "output_type": "execute_result"
        }
      ],
      "source": [
        "data.dtypes #Verilerin tipi"
      ]
    },
    {
      "cell_type": "code",
      "execution_count": 7,
      "metadata": {
        "id": "VNaK_UGubjYO"
      },
      "outputs": [],
      "source": [
        "df = pd.DataFrame(data) #dropna:dataframe(df) ten alınan tüm null değerlerini kaldırır."
      ]
    },
    {
      "cell_type": "code",
      "execution_count": 8,
      "metadata": {
        "id": "aI-jBj6AcbrL"
      },
      "outputs": [
        {
          "name": "stderr",
          "output_type": "stream",
          "text": [
            "<>:1: SyntaxWarning: invalid escape sequence '\\?'\n",
            "<>:1: SyntaxWarning: invalid escape sequence '\\?'\n",
            "/var/folders/y6/npmgkj1j4mzgx950yrf632lc0000gn/T/ipykernel_2554/559485305.py:1: SyntaxWarning: invalid escape sequence '\\?'\n",
            "  indexes_to_drop = df[df.apply(lambda x: x.astype(str).str.contains('\\?').any(), axis=1)].index\n"
          ]
        }
      ],
      "source": [
        "indexes_to_drop = df[df.apply(lambda x: x.astype(str).str.contains('\\?').any(), axis=1)].index\n",
        "df_cleaned = df.drop(indexes_to_drop) #data_cleaned: Sütunları çıkarılmış olan yeni veri çerçevesi."
      ]
    },
    {
      "cell_type": "code",
      "execution_count": 9,
      "metadata": {
        "colab": {
          "base_uri": "https://localhost:8080/"
        },
        "id": "3ULPWCp3dt0V",
        "outputId": "d829a352-8ca2-4293-9890-f225d1471184"
      },
      "outputs": [
        {
          "name": "stdout",
          "output_type": "stream",
          "text": [
            "1      2\n",
            "2      1\n",
            "6      3\n",
            "8      2\n",
            "9      1\n",
            "      ..\n",
            "297    1\n",
            "298    1\n",
            "299    2\n",
            "300    3\n",
            "301    1\n",
            "Name: Num, Length: 137, dtype: int64\n"
          ]
        }
      ],
      "source": [
        "df_last = df_cleaned[df_cleaned['Num'] != 0] \n",
        "#df_cleaned['Num'] != 0 ifadesi, 'Num' sütununda 0 olmayan değerleri kontrol eder ve [False, True, False, True, True] gibi bir Boolean maskesi oluşturur.\n",
        "#df_cleaned[df_cleaned['Num'] != 0] ifadesi, bu maskeyi kullanarak 'Num' sütununda 0 olmayan satırları seçer ve df_last DataFrame'ini oluşturur.\n",
        "print(df_last['Num'])"
      ]
    },
    {
      "cell_type": "code",
      "execution_count": 10,
      "metadata": {
        "colab": {
          "base_uri": "https://localhost:8080/"
        },
        "id": "HkZRYcXgohet",
        "outputId": "fe2843b6-73bf-4489-9357-2daa23b16ca1"
      },
      "outputs": [
        {
          "data": {
            "text/plain": [
              "Num\n",
              "1    54\n",
              "2    35\n",
              "3    35\n",
              "4    13\n",
              "Name: count, dtype: int64"
            ]
          },
          "execution_count": 10,
          "metadata": {},
          "output_type": "execute_result"
        }
      ],
      "source": [
        "df_last.Num.value_counts() #\"Diagnosis\" feature'ı altındaki değerlerin sayısını verir"
      ]
    },
    {
      "cell_type": "code",
      "execution_count": 11,
      "metadata": {
        "id": "yYJT8t0To4RJ"
      },
      "outputs": [],
      "source": [
        "X = df_last.drop(['Num'], axis=1)\n",
        "Y = df_last.Num"
      ]
    },
    {
      "cell_type": "code",
      "execution_count": 12,
      "metadata": {
        "colab": {
          "base_uri": "https://localhost:8080/"
        },
        "id": "mvjbMi6LcB7u",
        "outputId": "7116ae32-1eef-4e89-8864-21fef2dcfdb9"
      },
      "outputs": [
        {
          "data": {
            "text/plain": [
              "Num\n",
              "1    54\n",
              "2    35\n",
              "3    35\n",
              "4    13\n",
              "Name: count, dtype: int64"
            ]
          },
          "execution_count": 12,
          "metadata": {},
          "output_type": "execute_result"
        }
      ],
      "source": [
        "Y.value_counts()\n"
      ]
    },
    {
      "cell_type": "code",
      "execution_count": 13,
      "metadata": {
        "id": "NjF4TExCpWJh"
      },
      "outputs": [],
      "source": [
        "X_train, X_test, Y_train, Y_test = train_test_split(X, Y, test_size=0.3, random_state=33, stratify=Y)\n",
        "#X ve Y verisini %70-%30 oranın train-test verisi olarak ayırır."
      ]
    },
    {
      "cell_type": "code",
      "execution_count": 14,
      "metadata": {
        "colab": {
          "base_uri": "https://localhost:8080/"
        },
        "id": "186orJ0xqi5j",
        "outputId": "6d0d1b97-8d6a-42d2-9f16-6d913a4286ea"
      },
      "outputs": [
        {
          "name": "stderr",
          "output_type": "stream",
          "text": [
            "/Library/Frameworks/Python.framework/Versions/3.12/lib/python3.12/site-packages/sklearn/neural_network/_multilayer_perceptron.py:691: ConvergenceWarning: Stochastic Optimizer: Maximum iterations (200) reached and the optimization hasn't converged yet.\n",
            "  warnings.warn(\n"
          ]
        },
        {
          "data": {
            "text/plain": [
              "array([3, 2, 3, 1, 1, 1, 1, 1, 1, 1, 1, 1, 1, 1, 3, 1, 1, 2, 1, 2, 3, 1,\n",
              "       1, 1, 1, 1, 1, 2, 1, 1, 1, 1, 2, 1, 1, 1, 1, 1, 1, 3, 1, 1])"
            ]
          },
          "execution_count": 14,
          "metadata": {},
          "output_type": "execute_result"
        }
      ],
      "source": [
        "clf = MLPClassifier() #KNN Sınıflandırısı\n",
        "clf.fit(X_train, Y_train) #Eğitim verilerinin, KNN algoritmasına entegre edilmesi\n",
        "prediction = clf.predict(X_test) #Test verisinin tahminlenme işlemi\n",
        "prediction"
      ]
    },
    {
      "cell_type": "code",
      "execution_count": 15,
      "metadata": {
        "colab": {
          "base_uri": "https://localhost:8080/"
        },
        "id": "o0x9UOGormjZ",
        "outputId": "180f48e5-bdc2-49c9-86fd-70f9fdcf6fdc"
      },
      "outputs": [
        {
          "data": {
            "text/plain": [
              "0.3333333333333333"
            ]
          },
          "execution_count": 15,
          "metadata": {},
          "output_type": "execute_result"
        }
      ],
      "source": [
        "accuracy_score(Y_test, prediction)"
      ]
    },
    {
      "cell_type": "code",
      "execution_count": 16,
      "metadata": {
        "colab": {
          "base_uri": "https://localhost:8080/"
        },
        "id": "VFQrrUeDsM3W",
        "outputId": "53fc1dc9-5583-49da-a328-5e2acb3202fd"
      },
      "outputs": [
        {
          "name": "stdout",
          "output_type": "stream",
          "text": [
            "[[14  1  1  0]\n",
            " [ 9  0  2  0]\n",
            " [ 8  3  0  0]\n",
            " [ 1  1  2  0]]\n"
          ]
        }
      ],
      "source": [
        "cm = confusion_matrix(Y_test, prediction) #Confusion Matris\n",
        "print(cm)"
      ]
    }
  ],
  "metadata": {
    "colab": {
      "provenance": []
    },
    "kernelspec": {
      "display_name": "Python 3",
      "name": "python3"
    },
    "language_info": {
      "codemirror_mode": {
        "name": "ipython",
        "version": 3
      },
      "file_extension": ".py",
      "mimetype": "text/x-python",
      "name": "python",
      "nbconvert_exporter": "python",
      "pygments_lexer": "ipython3",
      "version": "3.12.0"
    }
  },
  "nbformat": 4,
  "nbformat_minor": 0
}
