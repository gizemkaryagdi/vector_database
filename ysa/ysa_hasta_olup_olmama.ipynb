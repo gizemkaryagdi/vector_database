{
  "cells": [
    {
      "cell_type": "code",
      "execution_count": 1,
      "metadata": {
        "id": "gzjp_h5AlmKH"
      },
      "outputs": [],
      "source": [
        "import pandas as pd\n",
        "from sklearn.neighbors import KNeighborsClassifier\n",
        "from sklearn.neural_network import MLPClassifier\n",
        "from sklearn.model_selection import train_test_split\n",
        "from sklearn.metrics import accuracy_score, confusion_matrix"
      ]
    },
    {
      "cell_type": "code",
      "execution_count": 2,
      "metadata": {
        "colab": {
          "base_uri": "https://localhost:8080/",
          "height": 363
        },
        "id": "UkuqzdFpmGDe",
        "outputId": "ed4c7a53-c600-4ce1-8235-85c459a1a5a6"
      },
      "outputs": [],
      "source": [
        "data = pd.read_csv(\"heart_disease_dataset.csv\") #Dosyayı yükle"
      ]
    },
    {
      "cell_type": "code",
      "execution_count": 3,
      "metadata": {},
      "outputs": [
        {
          "data": {
            "text/html": [
              "<div>\n",
              "<style scoped>\n",
              "    .dataframe tbody tr th:only-of-type {\n",
              "        vertical-align: middle;\n",
              "    }\n",
              "\n",
              "    .dataframe tbody tr th {\n",
              "        vertical-align: top;\n",
              "    }\n",
              "\n",
              "    .dataframe thead th {\n",
              "        text-align: right;\n",
              "    }\n",
              "</style>\n",
              "<table border=\"1\" class=\"dataframe\">\n",
              "  <thead>\n",
              "    <tr style=\"text-align: right;\">\n",
              "      <th></th>\n",
              "      <th>Age</th>\n",
              "      <th>Gender</th>\n",
              "      <th>CP</th>\n",
              "      <th>Trestbps</th>\n",
              "      <th>Chol</th>\n",
              "      <th>Fbs</th>\n",
              "      <th>Restecg</th>\n",
              "      <th>Thalach</th>\n",
              "      <th>Exang</th>\n",
              "      <th>Oldpeak</th>\n",
              "      <th>Slope</th>\n",
              "      <th>CA</th>\n",
              "      <th>Thal</th>\n",
              "      <th>Num</th>\n",
              "    </tr>\n",
              "  </thead>\n",
              "  <tbody>\n",
              "    <tr>\n",
              "      <th>290</th>\n",
              "      <td>67</td>\n",
              "      <td>1</td>\n",
              "      <td>3</td>\n",
              "      <td>152</td>\n",
              "      <td>212</td>\n",
              "      <td>0</td>\n",
              "      <td>2</td>\n",
              "      <td>150</td>\n",
              "      <td>0</td>\n",
              "      <td>0.8</td>\n",
              "      <td>2</td>\n",
              "      <td>0</td>\n",
              "      <td>7</td>\n",
              "      <td>1</td>\n",
              "    </tr>\n",
              "    <tr>\n",
              "      <th>272</th>\n",
              "      <td>46</td>\n",
              "      <td>1</td>\n",
              "      <td>4</td>\n",
              "      <td>140</td>\n",
              "      <td>311</td>\n",
              "      <td>0</td>\n",
              "      <td>0</td>\n",
              "      <td>120</td>\n",
              "      <td>1</td>\n",
              "      <td>1.8</td>\n",
              "      <td>2</td>\n",
              "      <td>2</td>\n",
              "      <td>7</td>\n",
              "      <td>2</td>\n",
              "    </tr>\n",
              "    <tr>\n",
              "      <th>235</th>\n",
              "      <td>54</td>\n",
              "      <td>1</td>\n",
              "      <td>4</td>\n",
              "      <td>122</td>\n",
              "      <td>286</td>\n",
              "      <td>0</td>\n",
              "      <td>2</td>\n",
              "      <td>116</td>\n",
              "      <td>1</td>\n",
              "      <td>3.2</td>\n",
              "      <td>2</td>\n",
              "      <td>2</td>\n",
              "      <td>3</td>\n",
              "      <td>3</td>\n",
              "    </tr>\n",
              "    <tr>\n",
              "      <th>173</th>\n",
              "      <td>62</td>\n",
              "      <td>0</td>\n",
              "      <td>4</td>\n",
              "      <td>140</td>\n",
              "      <td>394</td>\n",
              "      <td>0</td>\n",
              "      <td>2</td>\n",
              "      <td>157</td>\n",
              "      <td>0</td>\n",
              "      <td>1.2</td>\n",
              "      <td>2</td>\n",
              "      <td>0</td>\n",
              "      <td>3</td>\n",
              "      <td>0</td>\n",
              "    </tr>\n",
              "    <tr>\n",
              "      <th>68</th>\n",
              "      <td>59</td>\n",
              "      <td>1</td>\n",
              "      <td>4</td>\n",
              "      <td>170</td>\n",
              "      <td>326</td>\n",
              "      <td>0</td>\n",
              "      <td>2</td>\n",
              "      <td>140</td>\n",
              "      <td>1</td>\n",
              "      <td>3.4</td>\n",
              "      <td>3</td>\n",
              "      <td>0</td>\n",
              "      <td>7</td>\n",
              "      <td>2</td>\n",
              "    </tr>\n",
              "    <tr>\n",
              "      <th>115</th>\n",
              "      <td>41</td>\n",
              "      <td>1</td>\n",
              "      <td>2</td>\n",
              "      <td>135</td>\n",
              "      <td>203</td>\n",
              "      <td>0</td>\n",
              "      <td>0</td>\n",
              "      <td>132</td>\n",
              "      <td>0</td>\n",
              "      <td>0.0</td>\n",
              "      <td>2</td>\n",
              "      <td>0</td>\n",
              "      <td>6</td>\n",
              "      <td>0</td>\n",
              "    </tr>\n",
              "    <tr>\n",
              "      <th>222</th>\n",
              "      <td>39</td>\n",
              "      <td>0</td>\n",
              "      <td>3</td>\n",
              "      <td>94</td>\n",
              "      <td>199</td>\n",
              "      <td>0</td>\n",
              "      <td>0</td>\n",
              "      <td>179</td>\n",
              "      <td>0</td>\n",
              "      <td>0.0</td>\n",
              "      <td>1</td>\n",
              "      <td>0</td>\n",
              "      <td>3</td>\n",
              "      <td>0</td>\n",
              "    </tr>\n",
              "    <tr>\n",
              "      <th>255</th>\n",
              "      <td>42</td>\n",
              "      <td>0</td>\n",
              "      <td>3</td>\n",
              "      <td>120</td>\n",
              "      <td>209</td>\n",
              "      <td>0</td>\n",
              "      <td>0</td>\n",
              "      <td>173</td>\n",
              "      <td>0</td>\n",
              "      <td>0.0</td>\n",
              "      <td>2</td>\n",
              "      <td>0</td>\n",
              "      <td>3</td>\n",
              "      <td>0</td>\n",
              "    </tr>\n",
              "    <tr>\n",
              "      <th>267</th>\n",
              "      <td>59</td>\n",
              "      <td>1</td>\n",
              "      <td>3</td>\n",
              "      <td>126</td>\n",
              "      <td>218</td>\n",
              "      <td>1</td>\n",
              "      <td>0</td>\n",
              "      <td>134</td>\n",
              "      <td>0</td>\n",
              "      <td>2.2</td>\n",
              "      <td>2</td>\n",
              "      <td>1</td>\n",
              "      <td>6</td>\n",
              "      <td>2</td>\n",
              "    </tr>\n",
              "    <tr>\n",
              "      <th>92</th>\n",
              "      <td>62</td>\n",
              "      <td>1</td>\n",
              "      <td>3</td>\n",
              "      <td>130</td>\n",
              "      <td>231</td>\n",
              "      <td>0</td>\n",
              "      <td>0</td>\n",
              "      <td>146</td>\n",
              "      <td>0</td>\n",
              "      <td>1.8</td>\n",
              "      <td>2</td>\n",
              "      <td>3</td>\n",
              "      <td>7</td>\n",
              "      <td>0</td>\n",
              "    </tr>\n",
              "  </tbody>\n",
              "</table>\n",
              "</div>"
            ],
            "text/plain": [
              "     Age  Gender  CP  Trestbps  Chol  Fbs  Restecg  Thalach  Exang  Oldpeak  \\\n",
              "290   67       1   3       152   212    0        2      150      0      0.8   \n",
              "272   46       1   4       140   311    0        0      120      1      1.8   \n",
              "235   54       1   4       122   286    0        2      116      1      3.2   \n",
              "173   62       0   4       140   394    0        2      157      0      1.2   \n",
              "68    59       1   4       170   326    0        2      140      1      3.4   \n",
              "115   41       1   2       135   203    0        0      132      0      0.0   \n",
              "222   39       0   3        94   199    0        0      179      0      0.0   \n",
              "255   42       0   3       120   209    0        0      173      0      0.0   \n",
              "267   59       1   3       126   218    1        0      134      0      2.2   \n",
              "92    62       1   3       130   231    0        0      146      0      1.8   \n",
              "\n",
              "     Slope CA Thal  Num  \n",
              "290      2  0    7    1  \n",
              "272      2  2    7    2  \n",
              "235      2  2    3    3  \n",
              "173      2  0    3    0  \n",
              "68       3  0    7    2  \n",
              "115      2  0    6    0  \n",
              "222      1  0    3    0  \n",
              "255      2  0    3    0  \n",
              "267      2  1    6    2  \n",
              "92       2  3    7    0  "
            ]
          },
          "execution_count": 3,
          "metadata": {},
          "output_type": "execute_result"
        }
      ],
      "source": [
        "data.sample(10) #data.sample(10) ifadesi, pandas DataFrame'i olan data'dan rastgele 10 satır örneği seçmek için kullanılır. Bu yöntem, veri setinden rastgele örnekler almak ve veri keşfi, model doğrulama veya veri görselleştirme gibi işlemler için yararlıdır. Detaylı açıklama aşağıdaki gibidir:"
      ]
    },
    {
      "cell_type": "code",
      "execution_count": 4,
      "metadata": {
        "colab": {
          "base_uri": "https://localhost:8080/"
        },
        "id": "-JYqaV-jmtt1",
        "outputId": "5ef6e28c-7139-4b0a-8eff-7a67e479d283"
      },
      "outputs": [
        {
          "data": {
            "text/plain": [
              "(303, 14)"
            ]
          },
          "execution_count": 4,
          "metadata": {},
          "output_type": "execute_result"
        }
      ],
      "source": [
        "data.shape #Toplam satır ve sutun sayısı"
      ]
    },
    {
      "cell_type": "code",
      "execution_count": 5,
      "metadata": {
        "colab": {
          "base_uri": "https://localhost:8080/"
        },
        "id": "pA4nD1qLrrKz",
        "outputId": "9246cddd-4b6d-4fb7-e583-fd81224a2e45"
      },
      "outputs": [
        {
          "data": {
            "text/plain": [
              "Age         0\n",
              "Gender      0\n",
              "CP          0\n",
              "Trestbps    0\n",
              "Chol        0\n",
              "Fbs         0\n",
              "Restecg     0\n",
              "Thalach     0\n",
              "Exang       0\n",
              "Oldpeak     0\n",
              "Slope       0\n",
              "CA          0\n",
              "Thal        0\n",
              "Num         0\n",
              "dtype: int64"
            ]
          },
          "execution_count": 5,
          "metadata": {},
          "output_type": "execute_result"
        }
      ],
      "source": [
        "data.isnull().sum() #Missing data kontrolü"
      ]
    },
    {
      "cell_type": "code",
      "execution_count": 6,
      "metadata": {
        "colab": {
          "base_uri": "https://localhost:8080/"
        },
        "id": "4Jm_zXeinF1X",
        "outputId": "a211c055-42c9-4dc3-8b5d-2babb57de4e0"
      },
      "outputs": [
        {
          "data": {
            "text/plain": [
              "Age           int64\n",
              "Gender        int64\n",
              "CP            int64\n",
              "Trestbps      int64\n",
              "Chol          int64\n",
              "Fbs           int64\n",
              "Restecg       int64\n",
              "Thalach       int64\n",
              "Exang         int64\n",
              "Oldpeak     float64\n",
              "Slope         int64\n",
              "CA           object\n",
              "Thal         object\n",
              "Num           int64\n",
              "dtype: object"
            ]
          },
          "execution_count": 6,
          "metadata": {},
          "output_type": "execute_result"
        }
      ],
      "source": [
        "data.dtypes #Verilerin tipi"
      ]
    },
    {
      "cell_type": "code",
      "execution_count": 7,
      "metadata": {
        "id": "VNaK_UGubjYO"
      },
      "outputs": [],
      "source": [
        "df = pd.DataFrame(data) #dropna:dataframe(df) ten alınan tüm null değerlerini kaldırır."
      ]
    },
    {
      "cell_type": "code",
      "execution_count": 8,
      "metadata": {
        "id": "aI-jBj6AcbrL"
      },
      "outputs": [
        {
          "name": "stderr",
          "output_type": "stream",
          "text": [
            "<>:1: SyntaxWarning: invalid escape sequence '\\?'\n",
            "<>:1: SyntaxWarning: invalid escape sequence '\\?'\n",
            "/var/folders/y6/npmgkj1j4mzgx950yrf632lc0000gn/T/ipykernel_992/1790719935.py:1: SyntaxWarning: invalid escape sequence '\\?'\n",
            "  indexes_to_drop = df[df.apply(lambda x: x.astype(str).str.contains('\\?').any(), axis=1)].index\n"
          ]
        }
      ],
      "source": [
        "indexes_to_drop = df[df.apply(lambda x: x.astype(str).str.contains('\\?').any(), axis=1)].index\n",
        "#x.astype(str): Satırdaki tüm değerleri string (metin) tipine çevirir.\n",
        "#x.astype(str).str.contains('\\?'): Satırdaki herhangi bir hücrenin '?' içerip içermediğini kontrol eder.\n",
        "#.any(): Satırda '?' içeren herhangi bir hücre olup olmadığını kontrol eder. Varsa True, yoksa False döner.\n",
        "#.index: Koşulu sağlayan satırların indekslerini alır ve indexes_to_drop değişkenine atar.\n",
        "df_cleaned = df.drop(indexes_to_drop)"
      ]
    },
    {
      "cell_type": "code",
      "execution_count": 9,
      "metadata": {
        "colab": {
          "base_uri": "https://localhost:8080/"
        },
        "id": "3ULPWCp3dt0V",
        "outputId": "fff1de8c-1478-452b-a8f9-ef167f63d9e7"
      },
      "outputs": [
        {
          "name": "stdout",
          "output_type": "stream",
          "text": [
            "     Age  Gender  CP  Trestbps  Chol  Fbs  Restecg  Thalach  Exang  Oldpeak  \\\n",
            "0     63       1   1       145   233    1        2      150      0      2.3   \n",
            "1     67       1   4       160   286    0        2      108      1      1.5   \n",
            "2     67       1   4       120   229    0        2      129      1      2.6   \n",
            "3     37       1   3       130   250    0        0      187      0      3.5   \n",
            "4     41       0   2       130   204    0        2      172      0      1.4   \n",
            "..   ...     ...  ..       ...   ...  ...      ...      ...    ...      ...   \n",
            "297   57       0   4       140   241    0        0      123      1      0.2   \n",
            "298   45       1   1       110   264    0        0      132      0      1.2   \n",
            "299   68       1   4       144   193    1        0      141      0      3.4   \n",
            "300   57       1   4       130   131    0        0      115      1      1.2   \n",
            "301   57       0   2       130   236    0        2      174      0      0.0   \n",
            "\n",
            "     Slope CA Thal  Num  \n",
            "0        3  0    6    0  \n",
            "1        2  3    3    1  \n",
            "2        2  2    7    1  \n",
            "3        3  0    3    0  \n",
            "4        1  0    3    0  \n",
            "..     ... ..  ...  ...  \n",
            "297      2  0    7    1  \n",
            "298      2  0    7    1  \n",
            "299      2  2    7    1  \n",
            "300      2  1    7    1  \n",
            "301      2  1    3    1  \n",
            "\n",
            "[297 rows x 14 columns]\n"
          ]
        }
      ],
      "source": [
        "df_cleaned['Num'] = df_cleaned['Num'].replace([2, 3, 4], 1) \n",
        "#df_cleaned['Num']: Bu, df_cleaned DataFrame'inin 'Num' sütununu seçer.\n",
        "#.replace([2, 3, 4], 1): Bu metot, 'Num' sütununda 2, 3 veya 4 olan değerleri 1 ile değiştirir.\n",
        "print(df_cleaned)\n",
        "#print(df_cleaned): Bu, güncellenmiş df_cleaned DataFrame'ini yazdırır."
      ]
    },
    {
      "cell_type": "code",
      "execution_count": 10,
      "metadata": {
        "colab": {
          "base_uri": "https://localhost:8080/"
        },
        "id": "HkZRYcXgohet",
        "outputId": "1b260be0-91c8-4a37-8011-d1ade77b6889"
      },
      "outputs": [
        {
          "data": {
            "text/plain": [
              "Num\n",
              "0    160\n",
              "1    137\n",
              "Name: count, dtype: int64"
            ]
          },
          "execution_count": 10,
          "metadata": {},
          "output_type": "execute_result"
        }
      ],
      "source": [
        "df_cleaned.Num.value_counts() # \"diagnosis\" feature'ı altındaki değerlerin sayısını verir"
      ]
    },
    {
      "cell_type": "code",
      "execution_count": 11,
      "metadata": {
        "id": "yYJT8t0To4RJ"
      },
      "outputs": [],
      "source": [
        "X = df_cleaned.drop(['Num'], axis=1)\n",
        "#X: df_cleaned DataFrame'inden 'Num' sütunu hariç tüm sütunları içeren yeni bir DataFrame oluşturur.\n",
        "#df_cleaned.drop(['Num'], axis=1): Bu metot, df_cleaned DataFrame'inden 'Num' sütununu kaldırır.\n",
        "#['Num']: Kaldırılacak sütunların listesi (bu durumda sadece 'Num' sütunu).\n",
        "#axis=1: Sütunu kaldırmak için kullanılır (satırı kaldırmak için axis=0 kullanılır).\n",
        "Y = df_cleaned.Num\n",
        "#Y:df_cleaned DataFrame'inin 'Num' sütununu seçer ve hedef değişken olarak ayırır.\n"
      ]
    },
    {
      "cell_type": "code",
      "execution_count": 12,
      "metadata": {
        "id": "NjF4TExCpWJh"
      },
      "outputs": [],
      "source": [
        "X_train, X_test, Y_train, Y_test = train_test_split(X, Y, test_size = 0.3, random_state = 33) \n",
        "#X ve y verisini %70-%30 oranın train-test verisi olarak ayırır."
      ]
    },
    {
      "cell_type": "code",
      "execution_count": 13,
      "metadata": {
        "colab": {
          "base_uri": "https://localhost:8080/"
        },
        "id": "186orJ0xqi5j",
        "outputId": "8655085a-739d-4652-a131-c0ffd15b92e3"
      },
      "outputs": [
        {
          "data": {
            "text/plain": [
              "array([0, 1, 1, 0, 1, 1, 1, 1, 1, 0, 0, 0, 1, 1, 0, 1, 0, 0, 1, 0, 1, 1,\n",
              "       1, 0, 1, 1, 1, 1, 0, 1, 1, 0, 0, 1, 1, 1, 0, 1, 1, 1, 1, 1, 1, 1,\n",
              "       1, 1, 0, 1, 1, 1, 1, 1, 1, 1, 1, 0, 1, 1, 1, 1, 1, 1, 1, 0, 1, 1,\n",
              "       1, 1, 1, 1, 1, 0, 0, 1, 0, 1, 0, 0, 1, 0, 1, 0, 1, 0, 1, 0, 0, 1,\n",
              "       1, 1])"
            ]
          },
          "execution_count": 13,
          "metadata": {},
          "output_type": "execute_result"
        }
      ],
      "source": [
        "clf = MLPClassifier() #KNN Sınıflandırısı\n",
        "clf.fit(X_train, Y_train) #Eğitim verilerinin, KNN algoritmasına fit edilmesi\n",
        "prediction = clf.predict(X_test) #Test verisinin tahminlenme işlemi\n",
        "prediction"
      ]
    },
    {
      "cell_type": "code",
      "execution_count": 14,
      "metadata": {
        "colab": {
          "base_uri": "https://localhost:8080/"
        },
        "id": "o0x9UOGormjZ",
        "outputId": "f3304597-a4c1-421f-f6b5-496d08107313"
      },
      "outputs": [
        {
          "data": {
            "text/plain": [
              "0.7111111111111111"
            ]
          },
          "execution_count": 14,
          "metadata": {},
          "output_type": "execute_result"
        }
      ],
      "source": [
        "accuracy_score(Y_test, prediction)"
      ]
    },
    {
      "cell_type": "code",
      "execution_count": 15,
      "metadata": {
        "colab": {
          "base_uri": "https://localhost:8080/"
        },
        "id": "VFQrrUeDsM3W",
        "outputId": "0d621cae-8215-443f-d466-94d847ff3fc5"
      },
      "outputs": [
        {
          "name": "stdout",
          "output_type": "stream",
          "text": [
            "[[23 22]\n",
            " [ 4 41]]\n"
          ]
        }
      ],
      "source": [
        "cm = confusion_matrix(Y_test, prediction) # Confusion Matrix\n",
        "print(cm)"
      ]
    }
  ],
  "metadata": {
    "colab": {
      "provenance": []
    },
    "kernelspec": {
      "display_name": "Python 3",
      "name": "python3"
    },
    "language_info": {
      "codemirror_mode": {
        "name": "ipython",
        "version": 3
      },
      "file_extension": ".py",
      "mimetype": "text/x-python",
      "name": "python",
      "nbconvert_exporter": "python",
      "pygments_lexer": "ipython3",
      "version": "3.12.0"
    }
  },
  "nbformat": 4,
  "nbformat_minor": 0
}
